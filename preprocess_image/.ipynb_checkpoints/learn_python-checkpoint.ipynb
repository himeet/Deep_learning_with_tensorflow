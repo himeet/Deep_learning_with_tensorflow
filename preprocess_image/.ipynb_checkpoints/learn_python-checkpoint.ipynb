{
 "cells": [
  {
   "cell_type": "code",
   "execution_count": 1,
   "metadata": {},
   "outputs": [],
   "source": [
    "import numpy as np"
   ]
  },
  {
   "cell_type": "code",
   "execution_count": 18,
   "metadata": {},
   "outputs": [
    {
     "name": "stdout",
     "output_type": "stream",
     "text": [
      "<class 'list'>\n",
      "[1, 2, 3, 4, 5]\n",
      "[1, 'test', 3.1415, [1, 2, 3]]\n",
      "[]\n",
      "[1, 2, 3, 4, 5, 6]\n",
      "[1, 2, 3, 4, 5, 6, 100, 101]\n",
      "[1, 2, 2.5, 3, 4, 5, 6, 100, 101]\n",
      "2\n",
      "1\n",
      "[1, 2, 2.5, 3, 4, 5, 6, 100, 101, 1, 2, 2.5, 3, 4, 5, 6, 100, 101, 1, 2, 2.5, 3, 4, 5, 6, 100, 101]\n",
      "(1, 2, 3, 4, 5, 6)\n",
      "<class 'tuple'>\n"
     ]
    },
    {
     "ename": "NameError",
     "evalue": "name 'tf' is not defined",
     "output_type": "error",
     "traceback": [
      "\u001b[0;31m---------------------------------------------------------------------------\u001b[0m",
      "\u001b[0;31mNameError\u001b[0m                                 Traceback (most recent call last)",
      "\u001b[0;32m<ipython-input-18-bf5d6a345b19>\u001b[0m in \u001b[0;36m<module>\u001b[0;34m\u001b[0m\n\u001b[1;32m     28\u001b[0m \u001b[0mprint\u001b[0m\u001b[0;34m(\u001b[0m\u001b[0mtype\u001b[0m\u001b[0;34m(\u001b[0m\u001b[0mtuple1\u001b[0m\u001b[0;34m)\u001b[0m\u001b[0;34m)\u001b[0m\u001b[0;34m\u001b[0m\u001b[0;34m\u001b[0m\u001b[0m\n\u001b[1;32m     29\u001b[0m \u001b[0;34m\u001b[0m\u001b[0m\n\u001b[0;32m---> 30\u001b[0;31m \u001b[0mtf\u001b[0m\u001b[0;34m.\u001b[0m\u001b[0mget_default_graph\u001b[0m\u001b[0;34m\u001b[0m\u001b[0;34m\u001b[0m\u001b[0m\n\u001b[0m",
      "\u001b[0;31mNameError\u001b[0m: name 'tf' is not defined"
     ]
    }
   ],
   "source": [
    "#列表\n",
    "number = [1, 2, 3, 4, 5]\n",
    "mix = [1, 'test', 3.1415, [1, 2, 3]]\n",
    "empty = []\n",
    "\n",
    "print(type(number))\n",
    "print(number)\n",
    "print(mix)\n",
    "print(empty)\n",
    "\n",
    "number.append(6)\n",
    "print(number)\n",
    "number.extend([100, 101])\n",
    "print(number)\n",
    "number.insert(2, 2.5)\n",
    "print(number)\n",
    "print(number[1])\n",
    "print(mix[3][0])\n",
    "\n",
    "number_3 = number * 3\n",
    "print(number_3)\n",
    "\n",
    "dir(list)\n",
    "\n",
    "#元组\n",
    "tuple1 = (1, 2, 3, 4, 5, 6)\n",
    "print(tuple1)\n",
    "print(type(tuple1))\n"
   ]
  },
  {
   "cell_type": "code",
   "execution_count": null,
   "metadata": {},
   "outputs": [],
   "source": []
  }
 ],
 "metadata": {
  "kernelspec": {
   "display_name": "Python 3",
   "language": "python",
   "name": "python3"
  },
  "language_info": {
   "codemirror_mode": {
    "name": "ipython",
    "version": 3
   },
   "file_extension": ".py",
   "mimetype": "text/x-python",
   "name": "python",
   "nbconvert_exporter": "python",
   "pygments_lexer": "ipython3",
   "version": "3.7.3"
  }
 },
 "nbformat": 4,
 "nbformat_minor": 2
}
