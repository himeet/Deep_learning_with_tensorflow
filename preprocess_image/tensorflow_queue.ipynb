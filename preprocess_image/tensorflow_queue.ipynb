{
 "cells": [
  {
   "cell_type": "code",
   "execution_count": 1,
   "metadata": {},
   "outputs": [],
   "source": [
    "import tensorflow as tf"
   ]
  },
  {
   "cell_type": "code",
   "execution_count": 6,
   "metadata": {},
   "outputs": [
    {
     "name": "stdout",
     "output_type": "stream",
     "text": [
      "Tensor(\"fifo_queue_3_Dequeue:0\", dtype=int32)\n",
      "0\n",
      "10\n",
      "1\n",
      "11\n",
      "2\n"
     ]
    }
   ],
   "source": [
    "#创建一个先进先出队列，指定队列中最多可以保存2个元素，并指定类型为整数类型\n",
    "queue = tf.FIFOQueue(2, \"int32\")\n",
    "init = queue.enqueue_many(([0, 10],))\n",
    "\n",
    "#dequeue函数将队列中的第一个元素出队列\n",
    "x = queue.dequeue()\n",
    "y = x + 1\n",
    "#enqueue入队\n",
    "queue_inc = queue.enqueue([y])\n",
    "\n",
    "with tf.Session() as sess:\n",
    "    #运行初始化队列的操作\n",
    "    init.run()\n",
    "    for _ in range(5):\n",
    "        #运行queue_inc将执行数据出队列 出队的元素+1 重新加入队列的整个过程\n",
    "        v, _ = sess. ([x, queue_inc])\n",
    "        #打印出队元素的取值\n",
    "        print(v)"
   ]
  },
  {
   "cell_type": "code",
   "execution_count": null,
   "metadata": {},
   "outputs": [],
   "source": []
  }
 ],
 "metadata": {
  "kernelspec": {
   "display_name": "Python 3",
   "language": "python",
   "name": "python3"
  },
  "language_info": {
   "codemirror_mode": {
    "name": "ipython",
    "version": 3
   },
   "file_extension": ".py",
   "mimetype": "text/x-python",
   "name": "python",
   "nbconvert_exporter": "python",
   "pygments_lexer": "ipython3",
   "version": "3.7.3"
  }
 },
 "nbformat": 4,
 "nbformat_minor": 2
}
