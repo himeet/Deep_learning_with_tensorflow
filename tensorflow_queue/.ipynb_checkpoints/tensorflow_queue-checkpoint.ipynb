{
 "cells": [
  {
   "cell_type": "code",
   "execution_count": 20,
   "metadata": {},
   "outputs": [],
   "source": [
    "import tensorflow as tf"
   ]
  },
  {
   "cell_type": "code",
   "execution_count": 23,
   "metadata": {},
   "outputs": [
    {
     "name": "stdout",
     "output_type": "stream",
     "text": [
      "0\n",
      "10\n",
      "1\n",
      "11\n",
      "2\n"
     ]
    }
   ],
   "source": [
    "#创建一个先进先出队列，指定队列中最多可以保存2个元素，并指定类型为整数类型\n",
    "queue = tf.FIFOQueue(2, \"int32\")\n",
    "init = queue.enqueue_many(([0, 10],))\n",
    "\n",
    "#dequeue函数将队列中的第一个元素出队列\n",
    "x = queue.dequeue()\n",
    "\n",
    "y = x + 1\n",
    "#enqueue入队\n",
    "queue_inc = queue.enqueue([y])\n",
    "\n",
    "with tf.Session() as sess:\n",
    "    #运行初始化队列的操作\n",
    "    init.run()\n",
    "    for _ in range(5):\n",
    "        #运行queue_inc将执行数据出队列 出队的元素+1 重新加入队列的整个过程\n",
    "        v, _ = sess.run([x, queue_inc])\n",
    "        #打印出队元素的取值\n",
    "        print(v)"
   ]
  },
  {
   "cell_type": "code",
   "execution_count": 24,
   "metadata": {},
   "outputs": [],
   "source": [
    "import tensorflow as tf\n",
    "import numpy as np\n",
    "import threading\n",
    "import time"
   ]
  },
  {
   "cell_type": "code",
   "execution_count": 34,
   "metadata": {},
   "outputs": [
    {
     "name": "stdout",
     "output_type": "stream",
     "text": [
      "Working on id: 0\n",
      "\n",
      "Working on id: 1\n",
      "\n",
      "Working on id: 2\n",
      "\n",
      "Working on id: 3\n",
      "\n",
      "Working on id: 4\n",
      "\n",
      "Working on id: 0\n",
      "\n",
      "Working on id: 1\n",
      "\n",
      "Working on id: 2\n",
      "\n",
      "Working on id: 4\n",
      "Working on id: 3\n",
      "\n",
      "\n",
      "Working on id: 1\n",
      "\n",
      "Working on id: 2\n",
      "\n",
      "Working on id: 0\n",
      "\n",
      "Working on id: 3\n",
      "\n",
      "Working on id: 4\n",
      "\n",
      "Working on id: 1\n",
      "\n",
      "Working on id: 2\n",
      "\n",
      "Working on id: 0\n",
      "\n",
      "Working on id: 3\n",
      "\n",
      "Stoping from id: 4\n",
      "\n"
     ]
    }
   ],
   "source": [
    "#线程中运行的程序，这个程序每隔1秒钟判断是否需要停止并打印自己的id\n",
    "def MyLoop(coord, worker_id):\n",
    "    #使用tf.Coordinator类提供的协同工具判断当前线程是否需要停止\n",
    "    while not coord.should_stop():\n",
    "        #随机停止所有的线程\n",
    "        if np.random.rand() < 0.1:\n",
    "            print(\"Stoping from id: %d\\n\" % worker_id)\n",
    "            #调用coord.request_stop()函数来通知其他线程停止\n",
    "            coord.request_stop()\n",
    "        else:\n",
    "            #打印当前线程的id\n",
    "            print(\"Working on id: %d\\n\" % worker_id)\n",
    "        #暂停1秒\n",
    "        time.sleep(1)  \n",
    "        \n",
    "#声明一个tf.train.Coordinator类来协同多个线程\n",
    "coord = tf.train.Coordinator()\n",
    "#声明创建5个线程\n",
    "threads = [\n",
    "    threading.Thread(target=MyLoop, args=(coord, i, )) for i in range(5)\n",
    "]\n",
    "#启动所有的线程\n",
    "for t in threads:\n",
    "    t.start()\n",
    "#等待所有线程退出\n",
    "coord.join(threads)"
   ]
  },
  {
   "cell_type": "code",
   "execution_count": null,
   "metadata": {},
   "outputs": [],
   "source": []
  }
 ],
 "metadata": {
  "kernelspec": {
   "display_name": "Python 3",
   "language": "python",
   "name": "python3"
  },
  "language_info": {
   "codemirror_mode": {
    "name": "ipython",
    "version": 3
   },
   "file_extension": ".py",
   "mimetype": "text/x-python",
   "name": "python",
   "nbconvert_exporter": "python",
   "pygments_lexer": "ipython3",
   "version": "3.7.3"
  }
 },
 "nbformat": 4,
 "nbformat_minor": 2
}
